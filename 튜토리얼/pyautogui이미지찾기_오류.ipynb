{
 "cells": [
  {
   "cell_type": "code",
   "execution_count": 1,
   "id": "437b4f4f",
   "metadata": {},
   "outputs": [
    {
     "data": {
      "text/plain": [
       "'\\n결론.. locateCenterOnScreen 함수 grayscale True가 디폴트값이고, \\ngrayscale로 읽으면 png파일에 뭔가 왜곡이생긴다.. 이건왜그런지모르겠음\\n'"
      ]
     },
     "execution_count": 1,
     "metadata": {},
     "output_type": "execute_result"
    }
   ],
   "source": [
    "'''\n",
    "결론.. locateCenterOnScreen 함수 grayscale True가 디폴트값이고, \n",
    "grayscale로 읽으면 png파일에 뭔가 왜곡이생긴다.. 이건왜그런지모르겠음\n",
    "'''"
   ]
  },
  {
   "cell_type": "code",
   "execution_count": 3,
   "id": "8bcee8ec",
   "metadata": {},
   "outputs": [],
   "source": [
    "import pyautogui\n",
    "import cv2\n"
   ]
  },
  {
   "cell_type": "code",
   "execution_count": 5,
   "id": "2e77a74f",
   "metadata": {},
   "outputs": [],
   "source": [
    "pyautogui.locateCenterOnScreen('ju.png')\n"
   ]
  },
  {
   "cell_type": "code",
   "execution_count": 6,
   "id": "5f8fd718",
   "metadata": {},
   "outputs": [
    {
     "data": {
      "text/plain": [
       "Point(x=121, y=416)"
      ]
     },
     "execution_count": 6,
     "metadata": {},
     "output_type": "execute_result"
    }
   ],
   "source": [
    "pyautogui.locateCenterOnScreen('ju.bmp')"
   ]
  },
  {
   "cell_type": "code",
   "execution_count": 7,
   "id": "03b6ecce",
   "metadata": {},
   "outputs": [
    {
     "data": {
      "text/plain": [
       "Point(x=121, y=416)"
      ]
     },
     "execution_count": 7,
     "metadata": {},
     "output_type": "execute_result"
    }
   ],
   "source": [
    "pyautogui.locateCenterOnScreen('ju.png',grayscale=False)"
   ]
  },
  {
   "cell_type": "code",
   "execution_count": 8,
   "id": "05f29772",
   "metadata": {},
   "outputs": [
    {
     "data": {
      "text/plain": [
       "Point(x=121, y=416)"
      ]
     },
     "execution_count": 8,
     "metadata": {},
     "output_type": "execute_result"
    }
   ],
   "source": [
    "pyautogui.locateCenterOnScreen('ju.bmp',grayscale=False)"
   ]
  },
  {
   "cell_type": "code",
   "execution_count": 44,
   "id": "c503a100",
   "metadata": {},
   "outputs": [
    {
     "name": "stdout",
     "output_type": "stream",
     "text": [
      "5434\n"
     ]
    },
    {
     "data": {
      "text/plain": [
       "-1"
      ]
     },
     "execution_count": 44,
     "metadata": {},
     "output_type": "execute_result"
    }
   ],
   "source": [
    "\n",
    "import cv2\n",
    "import numpy as np\n",
    "\n",
    "# Read the two grayscale images\n",
    "png_ = cv2.imread('ju.png', cv2.IMREAD_GRAYSCALE)\n",
    "bmp_ = cv2.imread('ju.bmp', cv2.IMREAD_GRAYSCALE)\n",
    "\n",
    "difference = cv2.absdiff(png_, bmp_)\n",
    "_, thresholded_diff = cv2.threshold(difference, 1, 255, cv2.THRESH_BINARY)\n",
    "print(difference.sum())\n",
    "# cv2.imshow('png_', png_)\n",
    "# cv2.imshow('bmp_', bmp_)\n",
    "\n",
    "# cv2.imshow('Differences', difference)\n",
    "# cv2.imshow('thresholded_diff', thresholded_diff)\n",
    "cv2.waitKey(0)"
   ]
  },
  {
   "cell_type": "code",
   "execution_count": 45,
   "id": "9356718f",
   "metadata": {},
   "outputs": [
    {
     "name": "stdout",
     "output_type": "stream",
     "text": [
      "0\n"
     ]
    }
   ],
   "source": [
    "\n",
    "import cv2\n",
    "import numpy as np\n",
    "\n",
    "png_ = cv2.imread('ju.png')\n",
    "bmp_ = cv2.imread('ju.bmp')\n",
    "\n",
    "difference = cv2.absdiff(png_, bmp_)\n",
    "_, thresholded_diff = cv2.threshold(difference, 1, 255, cv2.THRESH_BINARY)\n",
    "\n",
    "print(difference.sum())\n",
    "\n",
    "# cv2.imshow('png_', png_)\n",
    "# cv2.imshow('bmp_', bmp_)\n",
    "\n",
    "# cv2.imshow('Differences', difference)\n",
    "# cv2.imshow('thresholded_diff', thresholded_diff)\n",
    "# cv2.waitKey(0)"
   ]
  },
  {
   "cell_type": "code",
   "execution_count": 47,
   "id": "36f07aed",
   "metadata": {},
   "outputs": [
    {
     "name": "stdout",
     "output_type": "stream",
     "text": [
      "0\n"
     ]
    },
    {
     "data": {
      "text/plain": [
       "-1"
      ]
     },
     "execution_count": 47,
     "metadata": {},
     "output_type": "execute_result"
    }
   ],
   "source": [
    "\n",
    "import cv2\n",
    "import numpy as np\n",
    "\n",
    "# Read the two grayscale images\n",
    "png_ = cv2.imread('ju.png', cv2.IMREAD_COLOR)\n",
    "bmp_ = cv2.imread('ju.bmp', cv2.IMREAD_COLOR)\n",
    "\n",
    "difference = cv2.absdiff(png_, bmp_)\n",
    "_, thresholded_diff = cv2.threshold(difference, 1, 255, cv2.THRESH_BINARY)\n",
    "print(difference.sum())\n",
    "# cv2.imshow('png_', png_)\n",
    "# cv2.imshow('bmp_', bmp_)\n",
    "\n",
    "# cv2.imshow('Differences', difference)\n",
    "# cv2.imshow('thresholded_diff', thresholded_diff)\n",
    "cv2.waitKey(0)"
   ]
  },
  {
   "cell_type": "code",
   "execution_count": 15,
   "id": "cc5fa22d",
   "metadata": {},
   "outputs": [
    {
     "data": {
      "text/plain": [
       "397"
      ]
     },
     "execution_count": 15,
     "metadata": {},
     "output_type": "execute_result"
    }
   ],
   "source": [
    "len(np.where(difference>0)[0])\n"
   ]
  },
  {
   "cell_type": "code",
   "execution_count": null,
   "id": "1d8870c7",
   "metadata": {},
   "outputs": [],
   "source": []
  },
  {
   "cell_type": "code",
   "execution_count": 11,
   "id": "11f31b67",
   "metadata": {},
   "outputs": [],
   "source": [
    "import re\n",
    "url_regex = re.compile(\n",
    "    r'(https?://\\S+|www\\.\\S+)'\n",
    ")\n",
    "\n",
    "# Function to wrap URLs with <a> tags\n",
    "def wrap_urls(text):\n",
    "    def replace_url(match):\n",
    "        url = match.group(0)\n",
    "        # return f'[{url}]({url}){{:target=\"_blank\"}}'\n",
    "        return f'<a href=\"{url}\" target=\"_blank\"> {url}</a>'\n",
    "    print(re.sub(url_regex, replace_url, text))"
   ]
  },
  {
   "cell_type": "code",
   "execution_count": null,
   "id": "4ef707ff",
   "metadata": {},
   "outputs": [],
   "source": []
  },
  {
   "cell_type": "code",
   "execution_count": 68,
   "id": "32b2fc2c",
   "metadata": {},
   "outputs": [],
   "source": [
    "#  개선 사항: [^\\s]+를 사용하면 초기 패턴 이후 공백이 아닌 문자만 일치하도록 보장합니다(예: \"https://\", \"www. ).\" 또는 \"이동/\"). \n",
    "# 이렇게 하면 후행 공백이나 기타 URL이 아닌 문자가 일치 항목에 포함되는 것을 방지할 수 있습니다.\n",
    "\n",
    "url_regex = re.compile(\n",
    "#     r'(https?://\\S+|www\\.\\S+.\\S+|go/\\S+)'\n",
    "     r'(https?://[^\\s]+|www\\.[^\\s]+|go/[^\\s]+)'\n",
    ")\n",
    "def wrap_urls(text):\n",
    "    def replace_url(match):\n",
    "        url = match.group(0)\n",
    "        return f'<a href=\"https://{url}\" target=\"_blank\"> {url}</a>'\n",
    "    print(re.sub(url_regex, replace_url, text))"
   ]
  },
  {
   "cell_type": "code",
   "execution_count": 70,
   "id": "b98d1526",
   "metadata": {},
   "outputs": [
    {
     "name": "stdout",
     "output_type": "stream",
     "text": [
      "<a href=\"https://https://go.a\" target=\"_blank\"> https://go.a</a>\n"
     ]
    }
   ],
   "source": [
    "wrap_urls('https://go.a')"
   ]
  },
  {
   "cell_type": "code",
   "execution_count": 71,
   "id": "848152ff",
   "metadata": {},
   "outputs": [
    {
     "name": "stdout",
     "output_type": "stream",
     "text": [
      "<a href=\"https://go/a\" target=\"_blank\"> go/a</a>  ss\n"
     ]
    }
   ],
   "source": [
    "wrap_urls('go/a  ss')"
   ]
  },
  {
   "cell_type": "code",
   "execution_count": 72,
   "id": "af3d170b",
   "metadata": {},
   "outputs": [
    {
     "name": "stdout",
     "output_type": "stream",
     "text": [
      "<a href=\"https://www.naver.com\" target=\"_blank\"> www.naver.com</a>  ss\n"
     ]
    }
   ],
   "source": [
    "wrap_urls('www.naver.com  ss')"
   ]
  },
  {
   "cell_type": "code",
   "execution_count": 73,
   "id": "bc107539",
   "metadata": {},
   "outputs": [
    {
     "name": "stdout",
     "output_type": "stream",
     "text": [
      "<a href=\"https://www.naver.com\" target=\"_blank\"> www.naver.com</a> ss\n"
     ]
    }
   ],
   "source": [
    "wrap_urls('www.naver.com ss')"
   ]
  },
  {
   "cell_type": "markdown",
   "id": "bf33c475",
   "metadata": {},
   "source": [
    "<a href=\"https://go.a\" target=\"_blank\"> https://go.a</a>"
   ]
  },
  {
   "cell_type": "code",
   "execution_count": 62,
   "id": "d05ff8ed",
   "metadata": {},
   "outputs": [
    {
     "data": {
      "text/plain": [
       "Point(x=671, y=816)"
      ]
     },
     "execution_count": 62,
     "metadata": {},
     "output_type": "execute_result"
    }
   ],
   "source": [
    "p='t' + '.png'\n",
    "pyautogui.locateCenterOnScreen(p,grayscale=False)\n"
   ]
  },
  {
   "cell_type": "code",
   "execution_count": 63,
   "id": "ae1b268c",
   "metadata": {},
   "outputs": [
    {
     "data": {
      "text/plain": [
       "Point(x=671, y=816)"
      ]
     },
     "execution_count": 63,
     "metadata": {},
     "output_type": "execute_result"
    }
   ],
   "source": [
    "p='t' + '.png'\n",
    "pyautogui.locateCenterOnScreen(p,grayscale=False, confidence=0.99)\n"
   ]
  },
  {
   "cell_type": "code",
   "execution_count": 23,
   "id": "40c51d1a",
   "metadata": {},
   "outputs": [],
   "source": [
    "p='t' + '.bmp'\n",
    "pyautogui.locateCenterOnScreen(p,grayscale=False,confidence=0.99)\n"
   ]
  },
  {
   "cell_type": "code",
   "execution_count": 21,
   "id": "1f84c87b",
   "metadata": {},
   "outputs": [
    {
     "data": {
      "text/plain": [
       "Point(x=442, y=635)"
      ]
     },
     "execution_count": 21,
     "metadata": {},
     "output_type": "execute_result"
    }
   ],
   "source": [
    "p='t' + '.png'\n",
    "pyautogui.locateCenterOnScreen(p,grayscale=False,confidence=0.99)\n"
   ]
  },
  {
   "cell_type": "code",
   "execution_count": 25,
   "id": "26efc680",
   "metadata": {},
   "outputs": [
    {
     "data": {
      "text/plain": [
       "Point(x=442, y=635)"
      ]
     },
     "execution_count": 25,
     "metadata": {},
     "output_type": "execute_result"
    }
   ],
   "source": [
    "p='tt' + '.bmp'\n",
    "pyautogui.locateCenterOnScreen(p,grayscale=False,confidence=0.99)\n"
   ]
  },
  {
   "cell_type": "code",
   "execution_count": 1,
   "id": "54e4f807",
   "metadata": {},
   "outputs": [],
   "source": [
    "import webbrowser"
   ]
  },
  {
   "cell_type": "code",
   "execution_count": 16,
   "id": "716730c1",
   "metadata": {},
   "outputs": [
    {
     "data": {
      "text/plain": [
       "True"
      ]
     },
     "execution_count": 16,
     "metadata": {},
     "output_type": "execute_result"
    }
   ],
   "source": [
    "webbrowser.open('https://www.naver.com')"
   ]
  },
  {
   "cell_type": "code",
   "execution_count": 17,
   "id": "08fe738e",
   "metadata": {},
   "outputs": [
    {
     "data": {
      "text/plain": [
       "True"
      ]
     },
     "execution_count": 17,
     "metadata": {},
     "output_type": "execute_result"
    }
   ],
   "source": [
    "webbrowser.open_new('https://www.naver.com')"
   ]
  },
  {
   "cell_type": "code",
   "execution_count": 19,
   "id": "21d13c49",
   "metadata": {},
   "outputs": [
    {
     "data": {
      "text/plain": [
       "True"
      ]
     },
     "execution_count": 19,
     "metadata": {},
     "output_type": "execute_result"
    }
   ],
   "source": [
    "webbrowser.open('https://www.naver.com',1)"
   ]
  },
  {
   "cell_type": "code",
   "execution_count": 22,
   "id": "d4462675",
   "metadata": {},
   "outputs": [
    {
     "ename": "Error",
     "evalue": "could not locate runnable browser",
     "output_type": "error",
     "traceback": [
      "\u001b[1;31m---------------------------------------------------------------------------\u001b[0m",
      "\u001b[1;31mError\u001b[0m                                     Traceback (most recent call last)",
      "Cell \u001b[1;32mIn[22], line 1\u001b[0m\n\u001b[1;32m----> 1\u001b[0m \u001b[43mwebbrowser\u001b[49m\u001b[38;5;241;43m.\u001b[39;49m\u001b[43mget\u001b[49m\u001b[43m(\u001b[49m\u001b[38;5;124;43m'\u001b[39;49m\u001b[38;5;124;43mchrome\u001b[39;49m\u001b[38;5;124;43m'\u001b[39;49m\u001b[43m)\u001b[49m\n",
      "File \u001b[1;32mC:\\Program Files\\Python310\\lib\\webbrowser.py:65\u001b[0m, in \u001b[0;36mget\u001b[1;34m(using)\u001b[0m\n\u001b[0;32m     63\u001b[0m         \u001b[38;5;28;01melif\u001b[39;00m command[\u001b[38;5;241m0\u001b[39m] \u001b[38;5;129;01mis\u001b[39;00m \u001b[38;5;129;01mnot\u001b[39;00m \u001b[38;5;28;01mNone\u001b[39;00m:\n\u001b[0;32m     64\u001b[0m             \u001b[38;5;28;01mreturn\u001b[39;00m command[\u001b[38;5;241m0\u001b[39m]()\n\u001b[1;32m---> 65\u001b[0m \u001b[38;5;28;01mraise\u001b[39;00m Error(\u001b[38;5;124m\"\u001b[39m\u001b[38;5;124mcould not locate runnable browser\u001b[39m\u001b[38;5;124m\"\u001b[39m)\n",
      "\u001b[1;31mError\u001b[0m: could not locate runnable browser"
     ]
    }
   ],
   "source": [
    "webbrowser.get('chrome')"
   ]
  },
  {
   "cell_type": "code",
   "execution_count": 38,
   "id": "deec55fb",
   "metadata": {},
   "outputs": [],
   "source": [
    "chrome_path = r'C:/Program Files/Google/Chrome/Application/chrome  %s'\n",
    "myopen = webbrowser.get(chrome_path).open('http://docs.python.org/')"
   ]
  },
  {
   "cell_type": "code",
   "execution_count": 40,
   "id": "8ff343aa",
   "metadata": {},
   "outputs": [],
   "source": [
    "chrome_path = r'C:/Program Files/Google/Chrome/Application/chrome  %s'\n",
    "myopen = webbrowser.get(chrome_path).open('http://docs.python.org/',1)"
   ]
  },
  {
   "cell_type": "code",
   "execution_count": 42,
   "id": "9ef65230",
   "metadata": {},
   "outputs": [
    {
     "data": {
      "text/plain": [
       "<Popen: returncode: None args: 'C:/Program Files/Google/Chrome/Application/c...>"
      ]
     },
     "execution_count": 42,
     "metadata": {},
     "output_type": "execute_result"
    }
   ],
   "source": [
    "import subprocess\n",
    "subprocess.Popen( r'C:/Program Files/Google/Chrome/Application/chrome')\n",
    "webbrowser.open('https://www.naver.com',1)"
   ]
  },
  {
   "cell_type": "code",
   "execution_count": null,
   "id": "89bcb875",
   "metadata": {},
   "outputs": [],
   "source": []
  },
  {
   "cell_type": "code",
   "execution_count": 66,
   "id": "aac09db3",
   "metadata": {},
   "outputs": [
    {
     "data": {
      "text/plain": [
       "True"
      ]
     },
     "execution_count": 66,
     "metadata": {},
     "output_type": "execute_result"
    }
   ],
   "source": [
    "import pyautogui \n",
    "import os \n",
    "import time\n",
    "import webbrowser\n",
    "\n",
    "def 엣지새창키기(url):  #이떄 어느윈도우에서 켜지게될까?\n",
    "    os.system('\"C:\\Program Files (x86)\\Microsoft\\Edge\\Application\\msedge\"')\n",
    "    webbrowser.open(url)\n",
    "    time.sleep(0.1)\n",
    "    pyautogui.hotkey('ctrl','1')\n",
    "    pyautogui.hotkey('ctrl','w')\n",
    "    \n",
    "\n",
    "엣지새창키기('https://naver.com')\n",
    "webbrowser.open('https://google.com')\n"
   ]
  },
  {
   "cell_type": "code",
   "execution_count": 65,
   "id": "740c9d05",
   "metadata": {},
   "outputs": [
    {
     "data": {
      "text/plain": [
       "True"
      ]
     },
     "execution_count": 65,
     "metadata": {},
     "output_type": "execute_result"
    }
   ],
   "source": [
    "엣지새창키기"
   ]
  },
  {
   "cell_type": "code",
   "execution_count": 89,
   "id": "5ec07450",
   "metadata": {},
   "outputs": [],
   "source": [
    "pyautogui.locateCenterOnScreen('aa.bmp',grayscale=False,confidence=0.97)"
   ]
  },
  {
   "cell_type": "code",
   "execution_count": 90,
   "id": "ddbcf0ee",
   "metadata": {},
   "outputs": [],
   "source": [
    "pyautogui.locateCenterOnScreen('aa.png',grayscale=False,confidence=0.97)"
   ]
  },
  {
   "cell_type": "code",
   "execution_count": 93,
   "id": "a7e84b03",
   "metadata": {},
   "outputs": [
    {
     "name": "stdout",
     "output_type": "stream",
     "text": [
      "None\n",
      "None\n"
     ]
    }
   ],
   "source": [
    "\n",
    "m = pyautogui.locateCenterOnScreen('aa.bmp',grayscale=False)\n",
    "print(m)\n",
    "m = pyautogui.locateCenterOnScreen('aa.png',grayscale=False)\n",
    "print(m)"
   ]
  },
  {
   "cell_type": "code",
   "execution_count": 122,
   "id": "7e633b62",
   "metadata": {},
   "outputs": [
    {
     "name": "stdout",
     "output_type": "stream",
     "text": [
      "Point(x=234, y=409)\n",
      "Point(x=234, y=409)\n"
     ]
    }
   ],
   "source": [
    "\n",
    "\n",
    "m = pyautogui.locateCenterOnScreen('a.png',grayscale=False)\n",
    "print(m)\n",
    "m = pyautogui.locateCenterOnScreen('a.bmp',grayscale=False)\n",
    "print(m)"
   ]
  },
  {
   "cell_type": "code",
   "execution_count": 170,
   "id": "94227584",
   "metadata": {},
   "outputs": [
    {
     "name": "stdout",
     "output_type": "stream",
     "text": [
      "Point(x=444, y=795)\n",
      "Point(x=444, y=795)\n",
      "None\n",
      "Point(x=444, y=795)\n"
     ]
    }
   ],
   "source": [
    "\n",
    "\n",
    "m = pyautogui.locateCenterOnScreen('a.png',grayscale=False)\n",
    "print(m)\n",
    "m = pyautogui.locateCenterOnScreen('a.bmp',grayscale=False)\n",
    "print(m)\n",
    "m = pyautogui.locateCenterOnScreen('a.png')\n",
    "print(m)\n",
    "m = pyautogui.locateCenterOnScreen('a.bmp')\n",
    "print(m)"
   ]
  },
  {
   "cell_type": "code",
   "execution_count": 179,
   "id": "5c4a2b08",
   "metadata": {},
   "outputs": [
    {
     "name": "stdout",
     "output_type": "stream",
     "text": [
      "None\n",
      "None\n",
      "None\n",
      "None\n"
     ]
    }
   ],
   "source": [
    "\n",
    "m = pyautogui.locateCenterOnScreen('m.png',grayscale=False)\n",
    "print(m)\n",
    "m = pyautogui.locateCenterOnScreen('m.bmp',grayscale=False)\n",
    "print(m)\n",
    "m = pyautogui.locateCenterOnScreen('m.png')\n",
    "print(m)\n",
    "m = pyautogui.locateCenterOnScreen('m.bmp')\n",
    "print(m)"
   ]
  },
  {
   "cell_type": "code",
   "execution_count": 88,
   "id": "fbc2df24",
   "metadata": {},
   "outputs": [
    {
     "name": "stdout",
     "output_type": "stream",
     "text": [
      "1512\n"
     ]
    },
    {
     "data": {
      "text/plain": [
       "-1"
      ]
     },
     "execution_count": 88,
     "metadata": {},
     "output_type": "execute_result"
    }
   ],
   "source": [
    "\n",
    "import cv2\n",
    "import numpy as np\n",
    "\n",
    "# png_ = cv2.imread('m.png', cv2.IMREAD_GRAYSCALE)\n",
    "# bmp_ = cv2.imread('m.bmp', cv2.IMREAD_GRAYSCALE)\n",
    "\n",
    "png_ = cv2.imread('m.png')\n",
    "bmp_ = cv2.imread('m.bmp')\n",
    "\n",
    "\n",
    "difference = cv2.absdiff(png_, bmp_)\n",
    "_, thresholded_diff = cv2.threshold(difference, 0, 255, cv2.THRESH_BINARY)\n",
    "\n",
    "print(difference.sum())\n",
    "\n",
    "cv2.imshow('png_', png_)\n",
    "cv2.imshow('bmp_', bmp_)\n",
    "\n",
    "cv2.imshow('Differences', difference)\n",
    "cv2.imshow('thresholded_diff', thresholded_diff)\n",
    "cv2.waitKey(0)"
   ]
  },
  {
   "cell_type": "code",
   "execution_count": 167,
   "id": "2b7f7d4e",
   "metadata": {},
   "outputs": [
    {
     "data": {
      "text/plain": [
       "((274, 360, 3), (274, 360, 3))"
      ]
     },
     "execution_count": 167,
     "metadata": {},
     "output_type": "execute_result"
    }
   ],
   "source": [
    "png_.shape , bmp_.shape"
   ]
  },
  {
   "cell_type": "code",
   "execution_count": null,
   "id": "d36683b4",
   "metadata": {},
   "outputs": [],
   "source": []
  },
  {
   "cell_type": "code",
   "execution_count": 169,
   "id": "b908298c",
   "metadata": {},
   "outputs": [
    {
     "data": {
      "text/plain": [
       "385560"
      ]
     },
     "execution_count": 169,
     "metadata": {},
     "output_type": "execute_result"
    }
   ],
   "source": [
    "thresholded_diff.sum()"
   ]
  },
  {
   "cell_type": "code",
   "execution_count": null,
   "id": "2c730833",
   "metadata": {},
   "outputs": [],
   "source": []
  },
  {
   "cell_type": "code",
   "execution_count": null,
   "id": "4355987d",
   "metadata": {},
   "outputs": [],
   "source": []
  },
  {
   "cell_type": "code",
   "execution_count": null,
   "id": "b14e9156",
   "metadata": {},
   "outputs": [],
   "source": []
  },
  {
   "cell_type": "code",
   "execution_count": null,
   "id": "3470771e",
   "metadata": {},
   "outputs": [],
   "source": []
  },
  {
   "cell_type": "code",
   "execution_count": null,
   "id": "72293d61",
   "metadata": {},
   "outputs": [],
   "source": []
  },
  {
   "cell_type": "code",
   "execution_count": null,
   "id": "bb9308d3",
   "metadata": {},
   "outputs": [],
   "source": []
  },
  {
   "cell_type": "code",
   "execution_count": 137,
   "id": "c8b04bfe",
   "metadata": {},
   "outputs": [
    {
     "name": "stdout",
     "output_type": "stream",
     "text": [
      "855490\n"
     ]
    },
    {
     "data": {
      "text/plain": [
       "-1"
      ]
     },
     "execution_count": 137,
     "metadata": {},
     "output_type": "execute_result"
    }
   ],
   "source": [
    "\n",
    "import cv2\n",
    "import numpy as np\n",
    "\n",
    "png_ = cv2.imread('a.png', cv2.IMREAD_GRAYSCALE)\n",
    "bmp_ = cv2.imread('a.bmp', cv2.IMREAD_GRAYSCALE)\n",
    "\n",
    "# png_ = cv2.imread('a.png')\n",
    "# bmp_ = cv2.imread('a.bmp')\n",
    "\n",
    "difference = cv2.absdiff(png_, bmp_)\n",
    "_, thresholded_diff = cv2.threshold(difference, 1, 255, cv2.THRESH_BINARY)\n",
    "\n",
    "print(difference.sum())\n",
    "\n",
    "cv2.imshow('png_', png_)\n",
    "cv2.imshow('bmp_', bmp_)\n",
    "\n",
    "cv2.imshow('Differences', difference)\n",
    "cv2.imshow('thresholded_diff', thresholded_diff)\n",
    "cv2.waitKey(0)"
   ]
  },
  {
   "cell_type": "code",
   "execution_count": null,
   "id": "31e348eb",
   "metadata": {},
   "outputs": [],
   "source": []
  },
  {
   "cell_type": "code",
   "execution_count": null,
   "id": "3df38e38",
   "metadata": {},
   "outputs": [],
   "source": []
  },
  {
   "cell_type": "code",
   "execution_count": null,
   "id": "4b7b4d15",
   "metadata": {},
   "outputs": [],
   "source": []
  },
  {
   "cell_type": "code",
   "execution_count": null,
   "id": "270694ae",
   "metadata": {},
   "outputs": [],
   "source": []
  },
  {
   "cell_type": "code",
   "execution_count": 13,
   "id": "1411a99e",
   "metadata": {},
   "outputs": [],
   "source": []
  },
  {
   "cell_type": "code",
   "execution_count": 89,
   "id": "79765501",
   "metadata": {},
   "outputs": [
    {
     "name": "stdout",
     "output_type": "stream",
     "text": [
      "[[-0.01068476 -0.01095219 -0.01123491 ...  0.          0.\n",
      "   0.        ]\n",
      " [-0.01111548 -0.01171486 -0.01199335 ...  0.          0.\n",
      "   0.        ]\n",
      " [-0.01188295 -0.01214129 -0.01208251 ...  0.          0.\n",
      "   0.        ]\n",
      " ...\n",
      " [ 0.          0.          0.         ...  0.          0.\n",
      "   0.        ]\n",
      " [ 0.          0.          0.         ...  0.          0.\n",
      "   0.        ]\n",
      " [ 0.          0.          0.         ...  0.          0.\n",
      "   0.        ]]\n",
      "(215, 106)\n",
      "(215, 107)\n"
     ]
    },
    {
     "data": {
      "text/plain": [
       "-1"
      ]
     },
     "execution_count": 89,
     "metadata": {},
     "output_type": "execute_result"
    }
   ],
   "source": [
    "\n",
    "import cv2\n",
    "import numpy as np\n",
    "\n",
    "mt = cv2.imread('mt.png', cv2.IMREAD_GRAYSCALE)\n",
    "m = cv2.imread('m.png', cv2.IMREAD_GRAYSCALE)\n",
    "\n",
    "result = cv2.matchTemplate(mt, m, cv2.TM_CCOEFF_NORMED)\n",
    "print(result)\n",
    "threshold = 0.9 # 임계치 설정\n",
    "box_loc = np.where(result >= threshold) # 임계치 이상의 값들만 사용\n",
    "w, h = m.shape[::-1]\n",
    "\n",
    "for box in zip(*box_loc[::-1]):\n",
    "    print(box)\n",
    "    startX, startY = box\n",
    "    endX, endY = startX + w, startY + h\n",
    "    cv2.rectangle(mt, (startX, startY), (endX, endY), (0,0,255), 1)\n",
    "    \n",
    "cv2.imshow('result',mt)\n",
    "cv2.waitKey(0)"
   ]
  },
  {
   "cell_type": "code",
   "execution_count": null,
   "id": "9cfec479",
   "metadata": {},
   "outputs": [],
   "source": []
  },
  {
   "cell_type": "code",
   "execution_count": null,
   "id": "0889da1d",
   "metadata": {},
   "outputs": [],
   "source": []
  },
  {
   "cell_type": "code",
   "execution_count": null,
   "id": "bdd38333",
   "metadata": {},
   "outputs": [],
   "source": []
  },
  {
   "cell_type": "code",
   "execution_count": 90,
   "id": "ec4c7cfe",
   "metadata": {},
   "outputs": [
    {
     "data": {
      "text/plain": [
       "-1"
      ]
     },
     "execution_count": 90,
     "metadata": {},
     "output_type": "execute_result"
    }
   ],
   "source": [
    "import cv2\n",
    "import numpy as np\n",
    "\n",
    "mt = cv2.imread('nt.png', cv2.IMREAD_GRAYSCALE)\n",
    "m = cv2.imread('n.png', cv2.IMREAD_GRAYSCALE)\n",
    "\n",
    "result = cv2.matchTemplate(mt, m, cv2.TM_CCOEFF_NORMED)\n",
    "w, h = m.shape[::-1]\n",
    "min_val, max_val, min_loc, max_loc = cv2.minMaxLoc(result)\n",
    "\n",
    "startX, startY = max_loc # 만약 cv.TM_SQDIFF 혹은 cv.TM_SQDIFF_NORMED를 사용했을경우 최솟값을 사용해야한다.\n",
    "endX, endY = startX + w, startY + h\n",
    "cv2.rectangle(mt, (startX, startY), (endX, endY), (0,0,255), 1)\n",
    "\n",
    "cv2.imshow('mt', mt)\n",
    "cv2.imshow('m', m)\n",
    "# cv2.imshow('result', mt)\n",
    "cv2.waitKey(0)"
   ]
  },
  {
   "cell_type": "code",
   "execution_count": 91,
   "id": "31a934d0",
   "metadata": {},
   "outputs": [
    {
     "data": {
      "text/plain": [
       "(0.8937724828720093, (189, 61))"
      ]
     },
     "execution_count": 91,
     "metadata": {},
     "output_type": "execute_result"
    }
   ],
   "source": [
    "max_val,  max_loc "
   ]
  },
  {
   "cell_type": "code",
   "execution_count": 92,
   "id": "bc0820a7",
   "metadata": {},
   "outputs": [],
   "source": [
    "import matplotlib.pyplot as plt"
   ]
  },
  {
   "cell_type": "code",
   "execution_count": null,
   "id": "ffd3eb45",
   "metadata": {},
   "outputs": [],
   "source": [
    "hist , bins = np.histogram(result)"
   ]
  },
  {
   "cell_type": "code",
   "execution_count": 93,
   "id": "1b05f662",
   "metadata": {},
   "outputs": [
    {
     "data": {
      "text/plain": [
       "(0.8, 1.0)"
      ]
     },
     "execution_count": 93,
     "metadata": {},
     "output_type": "execute_result"
    },
    {
     "data": {
      "image/png": "[encoded data removed]",
      "text/plain": [
       "<Figure size 640x480 with 1 Axes>"
      ]
     },
     "metadata": {},
     "output_type": "display_data"
    }
   ],
   "source": [
    "plt.scatter(result,result)\n",
    "plt.ylim(.8, 1)\n",
    "plt.xlim(.8, 1)\n"
   ]
  },
  {
   "cell_type": "code",
   "execution_count": null,
   "id": "5271c74b",
   "metadata": {},
   "outputs": [],
   "source": []
  }
 ],
 "metadata": {
  "kernelspec": {
   "display_name": "Python 3 (ipykernel)",
   "language": "python",
   "name": "python3"
  },
  "language_info": {
   "codemirror_mode": {
    "name": "ipython",
    "version": 3
   },
   "file_extension": ".py",
   "mimetype": "text/x-python",
   "name": "python",
   "nbconvert_exporter": "python",
   "pygments_lexer": "ipython3",
   "version": "3.10.10"
  },
  "toc": {
   "base_numbering": 1,
   "nav_menu": {},
   "number_sections": true,
   "sideBar": true,
   "skip_h1_title": false,
   "title_cell": "Table of Contents",
   "title_sidebar": "Contents",
   "toc_cell": false,
   "toc_position": {},
   "toc_section_display": true,
   "toc_window_display": false
  },
  "varInspector": {
   "cols": {
    "lenName": 16,
    "lenType": 16,
    "lenVar": 40
   },
   "kernels_config": {
    "python": {
     "delete_cmd_postfix": "",
     "delete_cmd_prefix": "del ",
     "library": "var_list.py",
     "varRefreshCmd": "print(var_dic_list())"
    },
    "r": {
     "delete_cmd_postfix": ") ",
     "delete_cmd_prefix": "rm(",
     "library": "var_list.r",
     "varRefreshCmd": "cat(var_dic_list()) "
    }
   },
   "types_to_exclude": [
    "module",
    "function",
    "builtin_function_or_method",
    "instance",
    "_Feature"
   ],
   "window_display": false
  }
 },
 "nbformat": 4,
 "nbformat_minor": 5
}
