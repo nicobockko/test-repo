{
 "cells": [
  {
   "cell_type": "code",
   "execution_count": 4,
   "id": "5a2f488c",
   "metadata": {},
   "outputs": [],
   "source": [
    "def do_sync():\n",
    "    return 'sync'"
   ]
  },
  {
   "cell_type": "code",
   "execution_count": 6,
   "id": "5109daad",
   "metadata": {},
   "outputs": [
    {
     "data": {
      "text/plain": [
       "'sync'"
      ]
     },
     "execution_count": 6,
     "metadata": {},
     "output_type": "execute_result"
    }
   ],
   "source": [
    "do_sync()"
   ]
  },
  {
   "cell_type": "code",
   "execution_count": 10,
   "id": "78a40bd9",
   "metadata": {},
   "outputs": [],
   "source": [
    "import time\n",
    "import asyncio"
   ]
  },
  {
   "cell_type": "code",
   "execution_count": 14,
   "id": "2ffbb503",
   "metadata": {},
   "outputs": [],
   "source": [
    "async def do_async():\n",
    "    time.sleep(1)\n",
    "    return 'async'"
   ]
  },
  {
   "cell_type": "code",
   "execution_count": 23,
   "id": "057dc6ea",
   "metadata": {},
   "outputs": [
    {
     "data": {
      "text/plain": [
       "<coroutine object do_async at 0x000002369C45C190>"
      ]
     },
     "execution_count": 23,
     "metadata": {},
     "output_type": "execute_result"
    }
   ],
   "source": [
    "do_async()  # async로 정의한 함수는 코루틴을 반환함 "
   ]
  },
  {
   "cell_type": "code",
   "execution_count": 30,
   "id": "825b1ac1",
   "metadata": {},
   "outputs": [],
   "source": [
    "async def do_async():\n",
    "    await asyncio.sleep(2)\n",
    "    return 'async'"
   ]
  },
  {
   "cell_type": "code",
   "execution_count": 31,
   "id": "b5b7786e",
   "metadata": {},
   "outputs": [
    {
     "name": "stdout",
     "output_type": "stream",
     "text": [
      "async\n",
      "async\n",
      "async\n",
      "async\n",
      "async\n"
     ]
    }
   ],
   "source": [
    "for i in 'a'*5 :\n",
    "    ret = await do_async() # async로 정의한 함수는 await를 붙혀서호출함  왜그래햐앟까,,? \n",
    "    print(ret)"
   ]
  },
  {
   "cell_type": "code",
   "execution_count": 32,
   "id": "696e9d7e",
   "metadata": {},
   "outputs": [
    {
     "data": {
      "text/plain": [
       "['async', 'async', 'async', 'async', 'async']"
      ]
     },
     "execution_count": 32,
     "metadata": {},
     "output_type": "execute_result"
    }
   ],
   "source": [
    "await asyncio.gather(\n",
    "      *[do_async() for i in '12345'] # async로 정의한 함수는 await를 붙혀서호출함  왜그래햐앟까,,? \n",
    "    )\n"
   ]
  },
  {
   "cell_type": "code",
   "execution_count": null,
   "id": "4c3f3574",
   "metadata": {},
   "outputs": [],
   "source": []
  },
  {
   "cell_type": "code",
   "execution_count": null,
   "id": "e6e4b794",
   "metadata": {},
   "outputs": [],
   "source": []
  },
  {
   "cell_type": "code",
   "execution_count": null,
   "id": "3df6d545",
   "metadata": {},
   "outputs": [],
   "source": []
  },
  {
   "cell_type": "code",
   "execution_count": null,
   "id": "75d9fdfe",
   "metadata": {},
   "outputs": [],
   "source": []
  },
  {
   "cell_type": "code",
   "execution_count": null,
   "id": "9eed7f10",
   "metadata": {},
   "outputs": [],
   "source": []
  },
  {
   "cell_type": "code",
   "execution_count": null,
   "id": "1aec877e",
   "metadata": {},
   "outputs": [],
   "source": []
  }
 ],
 "metadata": {
  "kernelspec": {
   "display_name": "Python 3 (ipykernel)",
   "language": "python",
   "name": "python3"
  },
  "language_info": {
   "codemirror_mode": {
    "name": "ipython",
    "version": 3
   },
   "file_extension": ".py",
   "mimetype": "text/x-python",
   "name": "python",
   "nbconvert_exporter": "python",
   "pygments_lexer": "ipython3",
   "version": "3.10.10"
  },
  "toc": {
   "base_numbering": 1,
   "nav_menu": {},
   "number_sections": true,
   "sideBar": true,
   "skip_h1_title": false,
   "title_cell": "Table of Contents",
   "title_sidebar": "Contents",
   "toc_cell": false,
   "toc_position": {},
   "toc_section_display": true,
   "toc_window_display": false
  },
  "varInspector": {
   "cols": {
    "lenName": 16,
    "lenType": 16,
    "lenVar": 40
   },
   "kernels_config": {
    "python": {
     "delete_cmd_postfix": "",
     "delete_cmd_prefix": "del ",
     "library": "var_list.py",
     "varRefreshCmd": "print(var_dic_list())"
    },
    "r": {
     "delete_cmd_postfix": ") ",
     "delete_cmd_prefix": "rm(",
     "library": "var_list.r",
     "varRefreshCmd": "cat(var_dic_list()) "
    }
   },
   "types_to_exclude": [
    "module",
    "function",
    "builtin_function_or_method",
    "instance",
    "_Feature"
   ],
   "window_display": false
  }
 },
 "nbformat": 4,
 "nbformat_minor": 5
}
