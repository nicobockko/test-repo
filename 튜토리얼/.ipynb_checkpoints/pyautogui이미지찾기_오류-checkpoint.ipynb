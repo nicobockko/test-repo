{
 "cells": [
  {
   "cell_type": "code",
   "execution_count": null,
   "id": "73a55672",
   "metadata": {},
   "outputs": [],
   "source": [
    "'''\n",
    "결론.. locateCenterOnScreen 함수 grayscale True가 디폴트값이고, \n",
    "grayscale로 읽으면 png파일에 뭔가 왜곡이생긴다.. 이건왜그런지모르겠음\n",
    "'''"
   ]
  },
  {
   "cell_type": "code",
   "execution_count": 1,
   "id": "8bcee8ec",
   "metadata": {},
   "outputs": [],
   "source": [
    "import pyautogui\n",
    "import cv2"
   ]
  },
  {
   "cell_type": "code",
   "execution_count": 2,
   "id": "0ff2b11c",
   "metadata": {},
   "outputs": [],
   "source": [
    "pyautogui.locateCenterOnScreen('ju.png')"
   ]
  },
  {
   "cell_type": "code",
   "execution_count": 3,
   "id": "01f76064",
   "metadata": {},
   "outputs": [
    {
     "data": {
      "text/plain": [
       "Point(x=121, y=416)"
      ]
     },
     "execution_count": 3,
     "metadata": {},
     "output_type": "execute_result"
    }
   ],
   "source": [
    "pyautogui.locateCenterOnScreen('ju.bmp')"
   ]
  },
  {
   "cell_type": "code",
   "execution_count": 4,
   "id": "a08a8e03",
   "metadata": {},
   "outputs": [
    {
     "data": {
      "text/plain": [
       "Point(x=121, y=416)"
      ]
     },
     "execution_count": 4,
     "metadata": {},
     "output_type": "execute_result"
    }
   ],
   "source": [
    "pyautogui.locateCenterOnScreen('ju.png',grayscale=False)"
   ]
  },
  {
   "cell_type": "code",
   "execution_count": 5,
   "id": "118e18ba",
   "metadata": {},
   "outputs": [
    {
     "data": {
      "text/plain": [
       "Point(x=121, y=416)"
      ]
     },
     "execution_count": 5,
     "metadata": {},
     "output_type": "execute_result"
    }
   ],
   "source": [
    "pyautogui.locateCenterOnScreen('ju.bmp',grayscale=False)"
   ]
  },
  {
   "cell_type": "code",
   "execution_count": 44,
   "id": "c503a100",
   "metadata": {},
   "outputs": [
    {
     "name": "stdout",
     "output_type": "stream",
     "text": [
      "5434\n"
     ]
    },
    {
     "data": {
      "text/plain": [
       "-1"
      ]
     },
     "execution_count": 44,
     "metadata": {},
     "output_type": "execute_result"
    }
   ],
   "source": [
    "\n",
    "import cv2\n",
    "import numpy as np\n",
    "\n",
    "# Read the two grayscale images\n",
    "png_ = cv2.imread('ju.png', cv2.IMREAD_GRAYSCALE)\n",
    "bmp_ = cv2.imread('ju.bmp', cv2.IMREAD_GRAYSCALE)\n",
    "\n",
    "difference = cv2.absdiff(png_, bmp_)\n",
    "_, thresholded_diff = cv2.threshold(difference, 1, 255, cv2.THRESH_BINARY)\n",
    "print(difference.sum())\n",
    "# cv2.imshow('png_', png_)\n",
    "# cv2.imshow('bmp_', bmp_)\n",
    "\n",
    "# cv2.imshow('Differences', difference)\n",
    "# cv2.imshow('thresholded_diff', thresholded_diff)\n",
    "cv2.waitKey(0)"
   ]
  },
  {
   "cell_type": "code",
   "execution_count": 45,
   "id": "c2878422",
   "metadata": {},
   "outputs": [
    {
     "name": "stdout",
     "output_type": "stream",
     "text": [
      "0\n"
     ]
    }
   ],
   "source": [
    "\n",
    "import cv2\n",
    "import numpy as np\n",
    "\n",
    "png_ = cv2.imread('ju.png')\n",
    "bmp_ = cv2.imread('ju.bmp')\n",
    "\n",
    "difference = cv2.absdiff(png_, bmp_)\n",
    "_, thresholded_diff = cv2.threshold(difference, 1, 255, cv2.THRESH_BINARY)\n",
    "\n",
    "print(difference.sum())\n",
    "\n",
    "# cv2.imshow('png_', png_)\n",
    "# cv2.imshow('bmp_', bmp_)\n",
    "\n",
    "# cv2.imshow('Differences', difference)\n",
    "# cv2.imshow('thresholded_diff', thresholded_diff)\n",
    "# cv2.waitKey(0)"
   ]
  },
  {
   "cell_type": "code",
   "execution_count": 47,
   "id": "edfd56c9",
   "metadata": {},
   "outputs": [
    {
     "name": "stdout",
     "output_type": "stream",
     "text": [
      "0\n"
     ]
    },
    {
     "data": {
      "text/plain": [
       "-1"
      ]
     },
     "execution_count": 47,
     "metadata": {},
     "output_type": "execute_result"
    }
   ],
   "source": [
    "\n",
    "import cv2\n",
    "import numpy as np\n",
    "\n",
    "# Read the two grayscale images\n",
    "png_ = cv2.imread('ju.png', cv2.IMREAD_COLOR)\n",
    "bmp_ = cv2.imread('ju.bmp', cv2.IMREAD_COLOR)\n",
    "\n",
    "difference = cv2.absdiff(png_, bmp_)\n",
    "_, thresholded_diff = cv2.threshold(difference, 1, 255, cv2.THRESH_BINARY)\n",
    "print(difference.sum())\n",
    "# cv2.imshow('png_', png_)\n",
    "# cv2.imshow('bmp_', bmp_)\n",
    "\n",
    "# cv2.imshow('Differences', difference)\n",
    "# cv2.imshow('thresholded_diff', thresholded_diff)\n",
    "cv2.waitKey(0)"
   ]
  },
  {
   "cell_type": "code",
   "execution_count": 15,
   "id": "cc5fa22d",
   "metadata": {},
   "outputs": [
    {
     "data": {
      "text/plain": [
       "397"
      ]
     },
     "execution_count": 15,
     "metadata": {},
     "output_type": "execute_result"
    }
   ],
   "source": [
    "len(np.where(difference>0)[0])\n"
   ]
  },
  {
   "cell_type": "code",
   "execution_count": null,
   "id": "1d8870c7",
   "metadata": {},
   "outputs": [],
   "source": []
  }
 ],
 "metadata": {
  "kernelspec": {
   "display_name": "Python 3 (ipykernel)",
   "language": "python",
   "name": "python3"
  },
  "language_info": {
   "codemirror_mode": {
    "name": "ipython",
    "version": 3
   },
   "file_extension": ".py",
   "mimetype": "text/x-python",
   "name": "python",
   "nbconvert_exporter": "python",
   "pygments_lexer": "ipython3",
   "version": "3.10.10"
  },
  "toc": {
   "base_numbering": 1,
   "nav_menu": {},
   "number_sections": true,
   "sideBar": true,
   "skip_h1_title": false,
   "title_cell": "Table of Contents",
   "title_sidebar": "Contents",
   "toc_cell": false,
   "toc_position": {},
   "toc_section_display": true,
   "toc_window_display": false
  },
  "varInspector": {
   "cols": {
    "lenName": 16,
    "lenType": 16,
    "lenVar": 40
   },
   "kernels_config": {
    "python": {
     "delete_cmd_postfix": "",
     "delete_cmd_prefix": "del ",
     "library": "var_list.py",
     "varRefreshCmd": "print(var_dic_list())"
    },
    "r": {
     "delete_cmd_postfix": ") ",
     "delete_cmd_prefix": "rm(",
     "library": "var_list.r",
     "varRefreshCmd": "cat(var_dic_list()) "
    }
   },
   "types_to_exclude": [
    "module",
    "function",
    "builtin_function_or_method",
    "instance",
    "_Feature"
   ],
   "window_display": false
  }
 },
 "nbformat": 4,
 "nbformat_minor": 5
}
